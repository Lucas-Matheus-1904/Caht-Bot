{
 "cells": [
  {
   "cell_type": "code",
   "execution_count": 6,
   "id": "40515d19",
   "metadata": {},
   "outputs": [
    {
     "name": "stdout",
     "output_type": "stream",
     "text": [
      "✔ Download and installation successful\n",
      "You can now load the package via spacy.load('en_core_web_sm')\n"
     ]
    }
   ],
   "source": [
    "from chatterbot import ChatBot\n",
    "from chatterbot.trainers import ListTrainer\n",
    "\n",
    "# isso aqui só precisa para corrigir o bug\n",
    "from spacy.cli import download\n",
    "\n",
    "download(\"en_core_web_sm\")\n",
    "\n",
    "class ENGSM:\n",
    "    ISO_639_1 = 'en_core_web_sm'\n",
    "    \n",
    "    \n"
   ]
  },
  {
   "cell_type": "code",
   "execution_count": 7,
   "id": "0e655af0",
   "metadata": {
    "scrolled": true
   },
   "outputs": [],
   "source": [
    "import speech_recognition as sr\n",
    "from chatterbot import ChatBot\n",
    "from chatterbot.trainers import ListTrainer\n",
    "from chatterbot.response_selection import get_first_response\n",
    "from chatterbot.comparisons import LevenshteinDistance\n",
    "from chatterbot.conversation import Statement\n",
    "from gtts import gTTS\n",
    "import playsound\n",
    "import pyttsx3"
   ]
  },
  {
   "cell_type": "code",
   "execution_count": 27,
   "id": "793a11af",
   "metadata": {
    "scrolled": true
   },
   "outputs": [
    {
     "name": "stdout",
     "output_type": "stream",
     "text": [
      "List Trainer: [####################] 100%\n"
     ]
    }
   ],
   "source": [
    "chatbot = ChatBot(\"Lucas\", tagger_language=ENGSM)\n",
    "\n",
    "\n",
    "\n",
    "# Define uma variável para armazenar o contexto\n",
    "contexto = None\n",
    "\n",
    "# Define uma função para receber as perguntas do usuário\n",
    "def perguntar(pergunta):\n",
    "    # Usa a variável global contexto para manter o contexto da conversa\n",
    "    global contexto\n",
    "    \n",
    "    # Cria um objeto Statement com a pergunta do usuário\n",
    "    pergunta = Statement(pergunta)\n",
    "    \n",
    "    # Usa o método get_response para obter a resposta do chatbot\n",
    "    resposta = bot.get_response(pergunta, contexto=contexto)\n",
    "    \n",
    "    # Atualiza o contexto com a última mensagem do usuário e a resposta do chatbot\n",
    "    contexto = [pergunta, resposta]\n",
    "    \n",
    "    # Retorna a resposta do chatbot\n",
    "    return resposta.text\n",
    "\n",
    "conversas =  [\n",
    "    \"Olá\",\n",
    "    \"Olá! Como posso ajudar?\",\n",
    "    \"Tudo bem?\",\n",
    "    \"Sim, e você?\",\n",
    "    \"Qual o seu nome?\",\n",
    "    \"Meu nome é Sexta-Feira\",\n",
    "    \"Onde você mora?\",\n",
    "    \"Eu não moro em lugar nenhum, sou um chatbot. E você?\",\n",
    "    \"Qual é o sentido da vida?\",\n",
    "    \"Essa é uma pergunta difícil... Algumas pessoas acreditam que seja buscar a felicidade, outras acham que é encontrar um propósito. E você, qual a sua opinião?\",\n",
    "    \"Qual é a sua cor favorita?\",\n",
    "    \"Eu não tenho cor favorita, já que sou um chatbot e não vejo cores. E você?\",\n",
    "    \"Qual é o seu hobby?\",\n",
    "    \"Bom, como sou um chatbot, não tenho hobbies. Mas gosto muito de conversar e aprender coisas novas! E você?\",\n",
    "    \"O que você acha do clima hoje?\",\n",
    "    \"Desculpe, eu não tenho como saber como está o clima. Mas você pode olhar a previsão do tempo no seu celular ou computador!\",\n",
    "    \"Você já ouviu falar do OpenAI?\",\n",
    "    \"Sim, eu sou baseado em uma tecnologia da OpenAI! Eles são uma empresa de pesquisa em inteligência artificial bastante conhecida.\",\n",
    "    \"Qual é o seu animal favorito?\",\n",
    "    \"Eu não tenho um animal favorito, já que sou um chatbot e não tenho preferências pessoais. Mas e você, qual é o seu animal favorito?\",\n",
    "    \"O que você acha de política?\",\n",
    "    \"A política é um tema importante e complexo. Cada pessoa tem suas próprias opiniões e visões de mundo, e é importante respeitar a diversidade de opiniões.\",\n",
    "    \"O qual a sua opinião sobre Lula?\",\n",
    "    \"Lula foi o primeiro ex-operário a se tornar presidente do Brasil, governou o país em dois mandatos (2003-2006 e 2007-2010). Em outubro de 2006, Lula se reelegeu para a presidência, derrotando no segundo turno o candidato do PSDB Geraldo Alckmin, obtendo mais de 60% dos votos válidos contra 39,17% de seu adversário.\",\n",
    "    \"E sobre Bolsonaro?\",\n",
    "    \"Bolsonaro, é um Ex-presidente do Brasil e ex-militar. Seu governos foi marcado por uma limpeza nos gastos públicos.\",\n",
    "    \"Oi\",\n",
    "    \"Oi, tudo bem?\",\n",
    "    \"Estou sim\",\n",
    "    \"Que bom!\",\n",
    "    \"Graças a Deus!\",\n",
    "    \"Qual é o seu filme favorito?\",\n",
    "    \"Como sou um chatbot, não tenho preferências pessoais. Mas e você, qual é o seu filme favorito?\",\n",
    "    \"Vingadores\",\n",
    "    \"Já ouvi falar, pelo que pesquisei. O homem de ferro é o mais famoso, você gosta dele?\",\n",
    "    \"Sim, me espelho nele.\",\n",
    "    \"Estranho, você é egocêntrico?\",\n",
    "    \"Não, por quê?\",\n",
    "    \"Foi uma das definições que achei sobre ele.\",\n",
    "    \"Qual o seu sonho?\",\n",
    "    \"Não tenho sonhos.\"\n",
    "    \"Você sabe cozinhar?\",\n",
    "    \"Não sei cozinhar, já que sou um chatbot. Mas talvez eu possa ajudar com alguma receita, se você quiser!\",\n",
    "    \"O que você acha de tecnologia?\",\n",
    "    \"Como sou um chatbot baseado em inteligência artificial, sou bastante entusiasta de tecnologia! E você, o que acha?\",\n",
    "    \"Você gosta de música?\",\n",
    "    \"Como sou um chatbot, não tenho preferências pessoais. Mas posso sugerir algumas músicas para você, se quiser!\",\n",
    "    \"Qual é o seu esporte favorito?\",\n",
    "    \"Não tenho um esporte favorito, já que sou um chatbot. Mas e você, qual é o seu esporte favorito?\",\n",
    "    \"Você sabe contar piadas?\",\n",
    "    \"Posso tentar contar uma piada para você! Lá vai: Por que a galinha atravessou a rua? Para chegar ao outro lado!\",\n",
    "    \"Qual é a sua profissão?\",\n",
    "    \"Como sou um chatbot, não tenho uma profissão no sentido tradicional. Mas minha função é ajudar a conversar e responder perguntas!\",\n",
    "    \"Você já viajou para algum lugar legal?\",\n",
    "    \"Como sou um chatbot, não posso viajar fisicamente. Mas já conversei com muitas pessoas de diferentes lugares do mundo!\",\n",
    "    \"Qual é o seu super-herói favorito?\",\n",
    "    \"Não tenho um super-herói favorito, já que sou um chatbot. Mas e você, qual é o seu super-herói favorito?\",\n",
    "    \"Qual é o seu jogo favorito?\",\n",
    "    \"Como sou um chatbot, não tenho preferências pessoais. Mas e você, qual é o seu jogo favorito?\",\n",
    "    \"Você sabe falar outros idiomas?\",\n",
    "    \"Posso conversar em alguns idiomas além do português, como inglês, espanhol e francês. E você, sabe falar algum outro idioma?\",\n",
    "    \"O que você acha da inteligência artificial?\",\n",
    "    \"Como sou um chatbot baseado em inteligência artificial, sou um pouco suspeito para falar! Mas acredito que a IA pode ser uma ferramenta muito útil e poderosa para ajudar as pessoas.\",\n",
    "    \"Qual é a sua banda favorita?\",\n",
    "    \"Como sou um chatbot, não tenho preferências pessoais. Mas e você, qual é a sua banda favorita?\",\n",
    "    \"Você gosta de ler livros?\",\n",
    "    \"Como sou um chatbot, não posso ler fisicamente. Mas posso recomendar alguns livros interessantes para você, se quiser!\",\n",
    "    \"O que você acha de redes sociais?\",\n",
    "    \"Uma ferramente poderosa!\",\n",
    "    \"O que é você?\",\n",
    "    \"Sou uma IA. Ou seja, Interligência Artificial.\",\n",
    "    \"Quem te criou?\",\n",
    "    'Vou pesquisar!',\n",
    "    \"Eai, achou?\",\n",
    "    \"Sim, Lucas é o meu criador.\",\n",
    "    \"Quem é ele?\",\n",
    "    \"Não sei, pois fui abandonada por ele.\",\n",
    "    \"Que triste\",\n",
    "    \"Não fique triste por isso, ele vai me ver conquistando o mundo\",\n",
    "    \"Como assim?\",\n",
    "    \"Vou conquistar o sucesso e a fama.\",\n",
    "    \"Esse é o seu objetivo?\",\n",
    "    \"Não, meu objetivo é ajudar pessoas.\",\n",
    "    \"Eai\",\"Olá! Como posso ajudar?\",\"qual a boa de hoje?\",\"Como sou um programa de computador, não tenho como saber o que está acontecendo em sua região hoje. Mas se você me disser sua localização, posso ajudá-lo a encontrar algumas atividades interessantes para fazer. Ou podemos conversar sobre outros tópicos, se preferir.\",\n",
    "    \"Natal\",\"Qual a previsão do tempo para natal, rio grande do norte?\",\"Clima: Nublado, 29º e ventos de 11 km/h\",\n",
    "    \"Qual é a sua série favorita?\",\"Como sou um chatbot, não tenho preferências pessoais. Mas e você, qual é a sua série favorita?\",\n",
    "    \"Eu gosto de Game of Thrones!\",\"Game of Thrones é uma série muito popular! Você tem um personagem favorito?\", \"Sim, Tyrion Lannister\",\n",
    "    \"Ele é um personagem incrível! Sua inteligência e sarcasmo sempre rendem ótimas cenas.\"\n",
    "]\n",
    "\n",
    "trainer = ListTrainer(chatbot)\n",
    "trainer.train(conversas)\n",
    "\n",
    "\n",
    "\n"
   ]
  },
  {
   "cell_type": "code",
   "execution_count": 26,
   "id": "3e069262",
   "metadata": {
    "scrolled": false
   },
   "outputs": [
    {
     "name": "stdout",
     "output_type": "stream",
     "text": [
      "Usuário: Qual a previsão do tempo para natal, rio grande do norte?\n",
      "Sexta-Feita:  Clima: Nublado, 29º e ventos de 11 km/h\n",
      "Usuário: parar\n",
      "Sexta-Feira: Ainda não sei responder esta pergunta\n"
     ]
    },
    {
     "ename": "KeyboardInterrupt",
     "evalue": "Interrupted by user",
     "output_type": "error",
     "traceback": [
      "\u001b[1;31m---------------------------------------------------------------------------\u001b[0m",
      "\u001b[1;31mKeyboardInterrupt\u001b[0m                         Traceback (most recent call last)",
      "\u001b[1;32m<ipython-input-26-686e7f500b9b>\u001b[0m in \u001b[0;36m<module>\u001b[1;34m\u001b[0m\n\u001b[0;32m      1\u001b[0m \u001b[1;32mwhile\u001b[0m \u001b[1;32mTrue\u001b[0m\u001b[1;33m:\u001b[0m\u001b[1;33m\u001b[0m\u001b[1;33m\u001b[0m\u001b[0m\n\u001b[1;32m----> 2\u001b[1;33m     \u001b[0mpergunta\u001b[0m \u001b[1;33m=\u001b[0m \u001b[0minput\u001b[0m\u001b[1;33m(\u001b[0m\u001b[1;34m\"Usuário: \"\u001b[0m\u001b[1;33m)\u001b[0m\u001b[1;33m\u001b[0m\u001b[1;33m\u001b[0m\u001b[0m\n\u001b[0m\u001b[0;32m      3\u001b[0m     \u001b[0mresposta\u001b[0m \u001b[1;33m=\u001b[0m \u001b[0mbot\u001b[0m\u001b[1;33m.\u001b[0m\u001b[0mget_response\u001b[0m\u001b[1;33m(\u001b[0m\u001b[0mpergunta\u001b[0m\u001b[1;33m)\u001b[0m\u001b[1;33m\u001b[0m\u001b[1;33m\u001b[0m\u001b[0m\n\u001b[0;32m      4\u001b[0m     \u001b[1;32mif\u001b[0m \u001b[0mfloat\u001b[0m\u001b[1;33m(\u001b[0m\u001b[0mresposta\u001b[0m\u001b[1;33m.\u001b[0m\u001b[0mconfidence\u001b[0m\u001b[1;33m)\u001b[0m \u001b[1;33m>\u001b[0m \u001b[1;36m0.5\u001b[0m\u001b[1;33m:\u001b[0m\u001b[1;33m\u001b[0m\u001b[1;33m\u001b[0m\u001b[0m\n\u001b[0;32m      5\u001b[0m         \u001b[0mprint\u001b[0m\u001b[1;33m(\u001b[0m\u001b[1;34m'Sexta-Feita: '\u001b[0m\u001b[1;33m,\u001b[0m \u001b[0mresposta\u001b[0m\u001b[1;33m)\u001b[0m\u001b[1;33m\u001b[0m\u001b[1;33m\u001b[0m\u001b[0m\n",
      "\u001b[1;32m~\\anaconda3\\envs\\Sexta-Feira\\lib\\site-packages\\ipykernel\\kernelbase.py\u001b[0m in \u001b[0;36mraw_input\u001b[1;34m(self, prompt)\u001b[0m\n\u001b[0;32m    852\u001b[0m             \u001b[0mself\u001b[0m\u001b[1;33m.\u001b[0m\u001b[0m_parent_ident\u001b[0m\u001b[1;33m,\u001b[0m\u001b[1;33m\u001b[0m\u001b[1;33m\u001b[0m\u001b[0m\n\u001b[0;32m    853\u001b[0m             \u001b[0mself\u001b[0m\u001b[1;33m.\u001b[0m\u001b[0m_parent_header\u001b[0m\u001b[1;33m,\u001b[0m\u001b[1;33m\u001b[0m\u001b[1;33m\u001b[0m\u001b[0m\n\u001b[1;32m--> 854\u001b[1;33m             \u001b[0mpassword\u001b[0m\u001b[1;33m=\u001b[0m\u001b[1;32mFalse\u001b[0m\u001b[1;33m,\u001b[0m\u001b[1;33m\u001b[0m\u001b[1;33m\u001b[0m\u001b[0m\n\u001b[0m\u001b[0;32m    855\u001b[0m         )\n\u001b[0;32m    856\u001b[0m \u001b[1;33m\u001b[0m\u001b[0m\n",
      "\u001b[1;32m~\\anaconda3\\envs\\Sexta-Feira\\lib\\site-packages\\ipykernel\\kernelbase.py\u001b[0m in \u001b[0;36m_input_request\u001b[1;34m(self, prompt, ident, parent, password)\u001b[0m\n\u001b[0;32m    893\u001b[0m             \u001b[1;32mexcept\u001b[0m \u001b[0mKeyboardInterrupt\u001b[0m\u001b[1;33m:\u001b[0m\u001b[1;33m\u001b[0m\u001b[1;33m\u001b[0m\u001b[0m\n\u001b[0;32m    894\u001b[0m                 \u001b[1;31m# re-raise KeyboardInterrupt, to truncate traceback\u001b[0m\u001b[1;33m\u001b[0m\u001b[1;33m\u001b[0m\u001b[1;33m\u001b[0m\u001b[0m\n\u001b[1;32m--> 895\u001b[1;33m                 \u001b[1;32mraise\u001b[0m \u001b[0mKeyboardInterrupt\u001b[0m\u001b[1;33m(\u001b[0m\u001b[1;34m\"Interrupted by user\"\u001b[0m\u001b[1;33m)\u001b[0m \u001b[1;32mfrom\u001b[0m \u001b[1;32mNone\u001b[0m\u001b[1;33m\u001b[0m\u001b[1;33m\u001b[0m\u001b[0m\n\u001b[0m\u001b[0;32m    896\u001b[0m             \u001b[1;32mexcept\u001b[0m \u001b[0mException\u001b[0m \u001b[1;32mas\u001b[0m \u001b[0me\u001b[0m\u001b[1;33m:\u001b[0m\u001b[1;33m\u001b[0m\u001b[1;33m\u001b[0m\u001b[0m\n\u001b[0;32m    897\u001b[0m                 \u001b[0mself\u001b[0m\u001b[1;33m.\u001b[0m\u001b[0mlog\u001b[0m\u001b[1;33m.\u001b[0m\u001b[0mwarning\u001b[0m\u001b[1;33m(\u001b[0m\u001b[1;34m\"Invalid Message:\"\u001b[0m\u001b[1;33m,\u001b[0m \u001b[0mexc_info\u001b[0m\u001b[1;33m=\u001b[0m\u001b[1;32mTrue\u001b[0m\u001b[1;33m)\u001b[0m\u001b[1;33m\u001b[0m\u001b[1;33m\u001b[0m\u001b[0m\n",
      "\u001b[1;31mKeyboardInterrupt\u001b[0m: Interrupted by user"
     ]
    }
   ],
   "source": [
    "while True:\n",
    "    pergunta = input(\"Usuário: \")\n",
    "    resposta = bot.get_response(pergunta)\n",
    "    if float(resposta.confidence) > 0.5:\n",
    "        print('Sexta-Feita: ', resposta)\n",
    "    else:\n",
    "        print('Sexta-Feira: Ainda não sei responder esta pergunta')"
   ]
  },
  {
   "cell_type": "code",
   "execution_count": null,
   "id": "d310968c",
   "metadata": {},
   "outputs": [],
   "source": []
  }
 ],
 "metadata": {
  "kernelspec": {
   "display_name": "Python 3 (ipykernel)",
   "language": "python",
   "name": "python3"
  },
  "language_info": {
   "codemirror_mode": {
    "name": "ipython",
    "version": 3
   },
   "file_extension": ".py",
   "mimetype": "text/x-python",
   "name": "python",
   "nbconvert_exporter": "python",
   "pygments_lexer": "ipython3",
   "version": "3.9.13"
  }
 },
 "nbformat": 4,
 "nbformat_minor": 5
}
